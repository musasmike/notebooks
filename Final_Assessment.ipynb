{
 "cells": [
  {
   "cell_type": "markdown",
   "metadata": {
    "collapsed": true
   },
   "source": [
    "# My Jupyter Notebook on IBM Watson Studio"
   ]
  },
  {
   "cell_type": "markdown",
   "metadata": {},
   "source": [
    "<b>Mike Musas</b>\n",
    "<p>Data Scientist</p>"
   ]
  },
  {
   "cell_type": "markdown",
   "metadata": {},
   "source": [
    "*I am interested in Data Science because of my passion to work with data in order to support business decisions. Moreover, I love coding.*"
   ]
  },
  {
   "cell_type": "markdown",
   "metadata": {},
   "source": [
    "### The code  below calculates five to the power four or 5^4"
   ]
  },
  {
   "cell_type": "code",
   "execution_count": 2,
   "metadata": {},
   "outputs": [
    {
     "name": "stdout",
     "output_type": "stream",
     "text": [
      "5 to the power 4 is equal to: 625\n"
     ]
    }
   ],
   "source": [
    "print(\"5 to the power 4 is equal to:\", 5 ** 4)"
   ]
  },
  {
   "cell_type": "markdown",
   "metadata": {},
   "source": [
    "<h1>NBA teams</h1>\n",
    "<br/>\n",
    "<p>California is miles ahead of the rest when it comes to NBA Teams popularity, with two of its four franchises strongly leading the rankings (spoiler alert, the Sacramento Kings don't take one of these spots!).\n",
    "\n",
    "With six of the last eight NBA Championship finals being contested by the Golden State Warriors, it's no surprise that they sit on top of popularity rankings.\n",
    "\n",
    "With the NBA the recent success of a team seems to be a stronger indicator of popularity than either legacy or geography when compared to other Major League Sports. Historical success, however, is still a relatively important indicator of popularity.</p>\n",
    "\n",
    "<br/>\n",
    "<img src='https://media.cnn.com/api/v1/images/stellar/prod/211220145332-nba-tease.jpg?c=16x9&q=h_720,w_1280,c_fill' style=\"width:640px; height:360px\"/>\n",
    "<br/>\n",
    "<center><a href=\"https://www.cnn.com/2021/12/20/sport/nba-replacement-players-covid-19-spt-intl/index.html\">image source link</a></center>\n",
    "<br/>\n",
    "<center><h3>What are the top popular NBA teams?</h3></center>\n",
    "\n",
    "\n",
    "|Rank|NBA Team|Instagram Followers|\n",
    "|:-----|:--------|:-------------------|\n",
    "|1|Golden State Warriors|24,300,000|\n",
    "|2|LA Lakers|19,800,000|19,800,000|\n",
    "|3|Cleveland Cavaliers|12,400,000|\n",
    "|4|Chicago Bulls|8,200,000|"
   ]
  },
  {
   "cell_type": "code",
   "execution_count": null,
   "metadata": {},
   "outputs": [],
   "source": []
  }
 ],
 "metadata": {
  "kernelspec": {
   "display_name": "Python 3.10",
   "language": "python",
   "name": "python3"
  },
  "language_info": {
   "codemirror_mode": {
    "name": "ipython",
    "version": 3
   },
   "file_extension": ".py",
   "mimetype": "text/x-python",
   "name": "python",
   "nbconvert_exporter": "python",
   "pygments_lexer": "ipython3",
   "version": "3.10.6"
  }
 },
 "nbformat": 4,
 "nbformat_minor": 1
}
