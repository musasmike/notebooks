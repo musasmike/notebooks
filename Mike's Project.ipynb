{
 "cells": [
  {
   "cell_type": "markdown",
   "metadata": {},
   "source": [
    "<center>\n",
    "    <img src=\"https://cf-courses-data.s3.us.cloud-object-storage.appdomain.cloud/IBMDeveloperSkillsNetwork-DS0105EN-SkillsNetwork/labs/Module2/images/SN_web_lightmode.png\" width=\"300\" alt=\"cognitiveclass.ai logo\">\n",
    "</center>\n"
   ]
  },
  {
   "cell_type": "markdown",
   "metadata": {
    "tags": []
   },
   "source": [
    "# Mike's Final Project\n"
   ]
  },
  {
   "cell_type": "markdown",
   "metadata": {},
   "source": [
    "## Introduction\n",
    "Hi, my name is Mike and here is my final work for the course Tools for Data Science."
   ]
  },
  {
   "cell_type": "markdown",
   "metadata": {},
   "source": [
    "## Objectives\n",
    "\n",
    "* Create a Jupyter Notebook\n",
    "* Insert code and markdown cells\n",
    "* Share your notebook through GitHub"
   ]
  },
  {
   "cell_type": "markdown",
   "metadata": {},
   "source": [
    "## Data Science Languages\n",
    "* Python\n",
    "* R\n",
    "* SQL\n",
    "* Scala\n",
    "* Java\n",
    "* C++\n",
    "* Julia\n",
    "* JavaScript\n",
    "* php\n",
    "* Go\n",
    "* Ruby\n",
    "* Visual Basic"
   ]
  },
  {
   "cell_type": "markdown",
   "metadata": {},
   "source": [
    "## Data Science Libraries\n",
    "\n",
    "**Python Libraries:**\n",
    "* Pandas\n",
    "* Numpy\n",
    "* Matplotlib\n",
    "* SciPy\n",
    "* PyTorch\n",
    "* TensorFlow\n",
    "* Keras\n",
    "* Scikit-learn\n",
    "\n",
    "**R Libraries:**\n",
    "* dplyr\n",
    "* ggplot2\n",
    "* tidyr"
   ]
  },
  {
   "cell_type": "markdown",
   "metadata": {},
   "source": [
    "## Data Science tools\n",
    "\n",
    "|Data Management Tools | Data Inegration & Transformation | Data Visualization | Model Deployment | Model Building | Model Monitoring & Assessment | Code Asset Management | Development Environments | Execution Environment | Fully Integrated Visual Tools |\n",
    "|:---------------------|:---------------------------------|:-------------------|:-----------------|:---------------|:------------------------------|:-----------------------------|:-------------------------|:----------------------|:------------------------------|\n",
    "|MySQL|Apache Airflow|Hue|PredictionIO|SPSS|ModelDB|git|Apache Atlas|Jupyter|Apache Spark|KNIME|\n",
    "|PostgreSQL|Kubeflow|Kabana|Seldon|SAS|Prometheus|GitHub|ODPI egeria|Jupyter lab|Apache Flink|Orange|\n",
    "|MongoDB|Apache Kafka|Superset|MLeap| |IBM Research Trusted AI|Gitlab|Kylo|RStudio|Ray|Watson Sdudio|\n",
    "|CouchDB|Apache Nifi|Tableau|TensorFlow service| |AI Explanability360|Bitbucket|Informatica|Apache Zeppelin| |H2O.ai\n",
    "|Hadoop HDPS|Spark SQL|Power BI| | | | |IBM Infosphere|Spyder| | |\n",
    "|Cassanda|Node Red|Cognos| | | | | |IBM Watson Studio| | |\n",
    "|Ceph|Informatica| | | | | | | | | |\n",
    "|Elasticsearch|IBM InfoSphere Data Stage| | | | | | | | | |\n",
    "|Oracle|Talend| | | | | | | | | |\n",
    "|MS SQL Server|Watson Studio Desktop| | | | | | | | | |\n",
    "|IBM DB2| | | | | | | | | |"
   ]
  },
  {
   "cell_type": "markdown",
   "metadata": {},
   "source": [
    "##  Introducing Arithmetic Expression Examples"
   ]
  },
  {
   "cell_type": "code",
   "execution_count": 1,
   "metadata": {},
   "outputs": [
    {
     "name": "stdout",
     "output_type": "stream",
     "text": [
      "Multiplication Result: 80\n",
      "Addition Result: 24\n"
     ]
    }
   ],
   "source": [
    "a = 20\n",
    "b = 4\n",
    "\n",
    "multiplication = a * b\n",
    "addition = a + b\n",
    "\n",
    "print(\"Multiplication Result:\", multiplication)\n",
    "print(\"Addition Result:\", addition)"
   ]
  },
  {
   "cell_type": "code",
   "execution_count": 2,
   "metadata": {},
   "outputs": [
    {
     "name": "stdout",
     "output_type": "stream",
     "text": [
      "438 minute(s) is 7.3 hour(s)\n"
     ]
    }
   ],
   "source": [
    "minutes = 438\n",
    "hours = minutes / 60\n",
    "\n",
    "print(minutes, \"minute(s) is\", hours, \"hour(s)\")"
   ]
  },
  {
   "cell_type": "markdown",
   "metadata": {},
   "source": [
    "## Author\n",
    "____________________________________________\n",
    "Mike Musas"
   ]
  },
  {
   "cell_type": "code",
   "execution_count": null,
   "metadata": {},
   "outputs": [],
   "source": []
  }
 ],
 "metadata": {
  "kernelspec": {
   "display_name": "Python",
   "language": "python",
   "name": "conda-env-python-py"
  },
  "language_info": {
   "codemirror_mode": {
    "name": "ipython",
    "version": 3
   },
   "file_extension": ".py",
   "mimetype": "text/x-python",
   "name": "python",
   "nbconvert_exporter": "python",
   "pygments_lexer": "ipython3",
   "version": "3.7.12"
  }
 },
 "nbformat": 4,
 "nbformat_minor": 4
}
